{
 "cells": [
  {
   "cell_type": "markdown",
   "metadata": {},
   "source": [
    "**Tutorial 8 - Markov Chain Monte Carlo**\n",
    "\n",
    "In this tutorial we will learn how to construct a basic Metropolis-Hastings Markov Chain (MCMC) sampler and apply it to type Ia supernova data.\n",
    "\n",
    "We will use the same supernova data we used before.  There is a nonlinear relationship between redshift and distance modulus within the standard cosmological model.  In practice it would be better to solve this problem by a non-linear $\\chi^2$ fit because there are few parameters, but we will do it by MCMC as an exercises.  "
   ]
  },
  {
   "cell_type": "markdown",
   "metadata": {},
   "source": [
    " 1) Make a Metropolis-Hastings stepping function.\n",
    "\n",
    " The function should take the following inputs: \n",
    " x - a numpy vector giving the current position in parameter space\n",
    " \n",
    " loglike - the value of the log of the likelihood \n",
    "           evaluated at x\n",
    "           \n",
    " loglike_func() - a function that returns the log of the \n",
    "            likelihood given a position in parameters space\n",
    "            \n",
    " proposal_func() - a proposal function that takes a position in \n",
    "                  parameter space and returns another point\n",
    "\n",
    " The function should return the updated position, the updated \n",
    " loglike at that position and a Boolean that is True if the proposed step was \n",
    " accepted and False if it was not. \n",
    " You can assume the proposal function is symmetric, \n",
    "i.e. $q(x | y) = q(y | x)$\n",
    "\n",
    "Call the function MH_step()"
   ]
  },
  {
   "cell_type": "code",
   "execution_count": 105,
   "metadata": {},
   "outputs": [],
   "source": [
    "import numpy as np\n",
    "import warnings\n",
    "#from functools import lru_cache\n",
    "\n",
    "#this store the i-1 value returned from the function to make this faster\n",
    "#not in this case(second try was ok not this)\n",
    "#@lru_cache(maxsize=2)\n",
    "def MH_step(p,loglike,loglike_func,proposal_function):\n",
    "    '''\n",
    "    Metropolis-Hastings Monte Carlo Step\n",
    "    p = position \n",
    "    '''\n",
    "\n",
    "    #new position to be evalueted\n",
    "    updated_p = proposal_function(p)\n",
    "    #print(updated_p)\n",
    "    #updated loglike in new position\n",
    "    updated_loglike = loglike_func(updated_p)\n",
    "\n",
    "    #alpha parameter \n",
    "    warnings.filterwarnings('ignore')\n",
    "    alpha = min(1,np.exp(updated_loglike-loglike))\n",
    "    \n",
    "\n",
    "    #condition over alpha\n",
    "    check = np.random.uniform(0.,1.,size=1)\n",
    "\n",
    "    if(alpha <= 1. and alpha > check):        \n",
    "        return updated_p,updated_loglike,True\n",
    "        \n",
    "    elif(alpha <= 1. and alpha < check):\n",
    "        return p, loglike, False\n",
    "    \n",
    "    #not really a real condition but non si sa mai\n",
    "    elif(alpha == 1.):\n",
    "        return updated_p,updated_loglike,True     \n",
    "\n"
   ]
  },
  {
   "cell_type": "markdown",
   "metadata": {},
   "source": [
    "2) Now you must make a *class* for a Gaussian proposal function called \n",
    "\"gaussian_proposal_class\".  The class should have a constructor that takes the standard deviation of the proposal in each dimension.  This is done by defining a \\_\\_init\\_\\_ function within it.  You should be able to call an instance of this class like a function by defining a \\_\\_call\\_\\_ function."
   ]
  },
  {
   "cell_type": "code",
   "execution_count": 106,
   "metadata": {},
   "outputs": [],
   "source": [
    "# Complete this code for a Gaussian proposal function class\n",
    "\n",
    "#class gaussian_proposal_class :\n",
    "    ## This part is the constructor and \n",
    "    ## sets the internal information in the object\n",
    "    # that is declared with\n",
    "    # \"func = gaussian_proposal_function(sigma_vector)\"\n",
    "#    def __init__(self, sigma_step):\n",
    "#        self.n = len(sigma_step)\n",
    "#        self.sigma_step = sigma_step\n",
    "#\n",
    "    ##  This part defines what happens when \n",
    "    ##  you do \"y = func(params)\"\n",
    "    ##  This should return a new point\n",
    "#    def __call__(self,params):\n",
    "#        return ________________\n",
    "#\n",
    "# Once this class is defined:\n",
    "#\n",
    "# example of creating a instance of this class\n",
    "# gpf = gaussian_proposal_class(sigma)\n",
    "#\n",
    "# using it after it has been created\n",
    "# result = gpf(params)\n",
    "\n"
   ]
  },
  {
   "cell_type": "code",
   "execution_count": 107,
   "metadata": {},
   "outputs": [
    {
     "name": "stdout",
     "output_type": "stream",
     "text": [
      "[19.12273932  0.10293055]\n"
     ]
    }
   ],
   "source": [
    "class gaussian_proposal_class:\n",
    "    \n",
    "    def __init__(self, sigma_step):\n",
    "        '''\n",
    "        sigma_step = max of how much u want to move in each direction\n",
    "        params = coordintes of the point\n",
    "        return 2 value, x and y but in the same array\n",
    "        '''\n",
    "        self.n = len(sigma_step)\n",
    "        self.sigma_step = sigma_step\n",
    "\n",
    "    def __call__(self,params):\n",
    "\n",
    "        #params[0] = np.random.normal(params[0],self.sigma_step[0],size=1)\n",
    "        #params[1] = np.random.normal(params[1],self.sigma_step[1],size=1)\n",
    "        #x_t = params+self.sigma_step*np.random.normal(params, self.n, size = self.n)\n",
    "        x_t = params+self.sigma_step*np.random.normal(0, 1, size = self.n)\n",
    "        #x_t = np.array((params[0], params[1]))\n",
    "        #print(x_t)\n",
    "        return x_t \n",
    "\n",
    "sigma = [1, 0.1]\n",
    "test = gaussian_proposal_class(sigma)\n",
    "\n",
    "ok = test([20,.2])\n",
    "print(ok)\n"
   ]
  },
  {
   "cell_type": "code",
   "execution_count": 108,
   "metadata": {},
   "outputs": [],
   "source": [
    "# 3) Make a Gaussian likelihood class that stores the data and errors and \n",
    "# returns the log likelihood as a default function.\n",
    "\n",
    "#class LogGaussianLikelihood :\n",
    "#    def __init__(self,y_data,x_data,y_model,sigmas):\n",
    "#    \n",
    "#         Store the data, model and errors in the object.\n",
    "#         The function y_model(params,x_data) will return the \n",
    "#         predicted value for y to be compared to y_data for \n",
    "#         any input vectors params and x_data.  This does not \n",
    "#         need to be specified here.\n",
    "#\n",
    "#    def __call__(self,params):\n",
    "#         This is the prior range on Omega matter\n",
    "#        if(params[1] < 0 or params[1] > 1) return -1.0e100\n",
    "#        \n",
    "#        Using the stored data and model and the input parameters \n",
    "#        to calculate the log of the Gaussian likelihood and return \n",
    "#        its value.\n",
    "#        "
   ]
  },
  {
   "cell_type": "code",
   "execution_count": 109,
   "metadata": {},
   "outputs": [],
   "source": [
    "class LogGaussianLikelihood:\n",
    "    def __init__(self, y_data,x_data,y_model,sigmas):\n",
    "        '''\n",
    "        y_data = parametro da acchiappare\n",
    "        y_data = modulo di distanza\n",
    "        x_data = redshift\n",
    "        MODEL == universe DL\n",
    "        '''\n",
    "    \n",
    "        self.x = x_data\n",
    "        self.y = y_data\n",
    "        self.model = y_model\n",
    "        self.sigma = sigmas\n",
    "    \n",
    "    def __call__(self, params):\n",
    "        '''\n",
    "        params = [normalisation factor, omega matter]\n",
    "\n",
    "        -- calcolo della loglike di un modulo di distanza dato\n",
    "        -- il modello e l'errore \n",
    "        -- quindi alla fine è sul modello che faccio le considerazioni\n",
    "        FUNZIONE VALE SOLO PER UN PUNTO ALLA VOLTA\n",
    "        '''        \n",
    "        #omega matter condition\n",
    "        if(params[1]<0. or params[1]>1.):\n",
    "           return -1e100\n",
    "           \n",
    "        else:            \n",
    "        #expected values of distance\n",
    "            dist_mod = self.model(params,self.x)\n",
    "\n",
    "            log_like = -0.5* np.sum(((self.y-dist_mod)/self.sigma)**2)\n",
    "        \n",
    "        return log_like \n"
   ]
  },
  {
   "cell_type": "markdown",
   "metadata": {},
   "source": [
    "4) Write a function that returns the distance modulus with \n",
    "signature def mu_model(p,z). \n",
    "\n",
    "Where parameters p are:\n",
    "\n",
    "p[0] is the absolute magnitude normalization \n",
    "\n",
    "p[1] is omega_matter.\n",
    "\n",
    "z is the redshift.\n",
    "\n",
    "Use the library function \n",
    "astropy.cosmology.FlatLambdaCDM.luminosity_distance(z).value \n",
    "to calculate the luminosity distance.  This is a nonlinear function of the omega_matter.\n"
   ]
  },
  {
   "cell_type": "code",
   "execution_count": 110,
   "metadata": {},
   "outputs": [],
   "source": [
    "#from astropy.cosmology import FRW\n",
    "import astropy.cosmology as cosmo\n",
    "\n",
    "\n",
    "def mu_model(p,z):\n",
    "    cos = cosmo.FlatLambdaCDM(70,p[1])\n",
    "   \n",
    "    return 5*np.log10(cos.luminosity_distance(z).value)+p[0]\n"
   ]
  },
  {
   "cell_type": "markdown",
   "metadata": {},
   "source": [
    "5) Read in the supernova data from SCPUnion2.1_mu_vs_z.txt and plot it."
   ]
  },
  {
   "cell_type": "code",
   "execution_count": 111,
   "metadata": {},
   "outputs": [],
   "source": [
    "\n",
    "import pandas as pd\n",
    "\n",
    "data = pd.read_table('SCPUnion2.1_mu_vs_z.txt', comment='#')\n",
    "\n",
    "z = np.array(data['redshift'])\n",
    "mu = np.array(data['dist_mod'])\n",
    "sigma = np.array(data['dist_mod_error'])\n",
    "\n",
    "#print(data.columns)\n"
   ]
  },
  {
   "cell_type": "markdown",
   "metadata": {
    "collapsed": true
   },
   "source": [
    " 6) Make an instance of LogGaussianLikelihood with the data.  Call it loglike_func\n",
    "\n",
    "Make an instance of gaussian_proposal_function\n",
    "\n",
    "Set up the initial point p[] and its log likelihood \n",
    " using  loglike_func(p)\n",
    "\n",
    "Make an MCMC loop 1000 steps or more long and make a scatter plot of  the chain.  Record the acceptance fraction.\n"
   ]
  },
  {
   "cell_type": "code",
   "execution_count": 112,
   "metadata": {},
   "outputs": [
    {
     "name": "stdout",
     "output_type": "stream",
     "text": [
      "test for the MH chain \n",
      "\n",
      "likelihood of inital point:  -12396.99545138154\n",
      "proposed step:  [24.01301418  0.53956981]\n",
      "loglike in proposed point:  -12731.073310915388\n"
     ]
    }
   ],
   "source": [
    "#init the chain == guess point in parameter space\n",
    "#possibly a low prob one\n",
    "#initial = [m0, mu]\n",
    "\n",
    "import matplotlib.pyplot as plt\n",
    "\n",
    "loglike_function =  LogGaussianLikelihood(mu,z,mu_model,sigma)\n",
    "\n",
    "\n",
    "N = 2000\n",
    "\n",
    "step = np.array([0.02,0.05])\n",
    "\n",
    "initial = np.array([24.,0.6])\n",
    "\n",
    "initial_l = loglike_function(initial)\n",
    "\n",
    "prop_func = gaussian_proposal_class(step)\n",
    "\n",
    "print('test for the MH chain', '\\n')\n",
    "print( 'likelihood of inital point: ',initial_l)\n",
    "print('proposed step: ',prop_func(initial))\n",
    "print('loglike in proposed point: ', loglike_function(prop_func(initial)))\n",
    "\n",
    "\n",
    "\n"
   ]
  },
  {
   "cell_type": "code",
   "execution_count": 113,
   "metadata": {},
   "outputs": [],
   "source": [
    "point = np.zeros([N,2])\n",
    "point[0] = initial\n",
    "\n",
    "LogLike = np.zeros(N)\n",
    "LogLike[0] = initial_l\n",
    "\n",
    "#print(len(point[:,1]))\n",
    "\n",
    "conditions = []\n",
    "\n",
    "\n",
    "for i in range(1,N):\n",
    "    point[i], LogLike[i], condition = MH_step(point[i-1],LogLike[i-1],loglike_function,prop_func)\n",
    "    conditions.append(condition)\n",
    "\n",
    "#this is a mask just like 'conditions    \n",
    "not_conditions = [not x for x in conditions]\n"
   ]
  },
  {
   "cell_type": "code",
   "execution_count": 114,
   "metadata": {},
   "outputs": [
    {
     "data": {
      "image/png": "[encoded data removed]",
      "text/plain": [
       "<Figure size 432x288 with 1 Axes>"
      ]
     },
     "metadata": {
      "needs_background": "light"
     },
     "output_type": "display_data"
    },
    {
     "name": "stdout",
     "output_type": "stream",
     "text": [
      "number of accepted points: 383\n",
      "acceptance percentage: 19.15 %\n",
      "\n",
      " number of accepted points, without the burn-in: 327\n",
      "\n",
      " number of discarded points: 1616\n"
     ]
    }
   ],
   "source": [
    "import itertools\n",
    "\n",
    "accepted = np.array(list(itertools.compress(point,conditions)))\n",
    "\n",
    "plt.plot(accepted[:,0], accepted[:,1])\n",
    "plt.plot(point[-1,0], point[-1,1], color='r',linestyle='none',marker='o', label='final point')\n",
    "plt.title('MHMC chain')\n",
    "plt.xlabel('$\\mu_0$ values')\n",
    "plt.ylabel('$\\Omega_m$ values')\n",
    "plt.legend()\n",
    "plt.show()\n",
    "\n",
    "\n",
    "print('number of accepted points:', len(accepted))\n",
    "\n",
    "print('acceptance percentage:', len(accepted[:,0])/len(point[:,0] ) *100, '%')\n",
    "\n",
    "#remove the burn in\n",
    "accepted = accepted[np.where(accepted[:,0] > 24.96)]\n",
    "\n",
    "discarded = np.array(list(itertools.compress(point,not_conditions)))\n",
    "\n",
    "\n",
    "\n",
    "print('\\n','number of accepted points, without the burn-in:',len(accepted))\n",
    "print('\\n', 'number of discarded points:', len(discarded))\n",
    "\n",
    "\n"
   ]
  },
  {
   "cell_type": "code",
   "execution_count": 115,
   "metadata": {},
   "outputs": [
    {
     "data": {
      "image/png": "[encoded data removed]",
      "text/plain": [
       "<Figure size 432x288 with 1 Axes>"
      ]
     },
     "metadata": {
      "needs_background": "light"
     },
     "output_type": "display_data"
    }
   ],
   "source": [
    "#plt.plot(accepted[:,0], accepted[:,1],linestyle='none', marker='.')\n",
    "plt.scatter(accepted[:,0], accepted[:,1], alpha=.7)\n",
    "plt.plot(point[-1,0], point[-1,1], color='r',linestyle='none',marker='o', label='final point')\n",
    "plt.xlabel('$\\mu_0$ values')\n",
    "plt.ylabel('$\\Omega_m$ values')\n",
    "plt.title('MHMC chain without burn-in')\n",
    "\n",
    "plt.legend()\n",
    "plt.show()\n",
    "\n",
    "\n"
   ]
  },
  {
   "cell_type": "markdown",
   "metadata": {},
   "source": [
    "7) Make historgrams of the two parameters."
   ]
  },
  {
   "cell_type": "code",
   "execution_count": 116,
   "metadata": {},
   "outputs": [
    {
     "data": {
      "image/png": "[encoded data removed]",
      "text/plain": [
       "<Figure size 1008x432 with 2 Axes>"
      ]
     },
     "metadata": {
      "needs_background": "light"
     },
     "output_type": "display_data"
    }
   ],
   "source": [
    "fig,(ax1, ax2) =plt.subplots(1,2, figsize=(14,6))\n",
    "\n",
    "plt.suptitle('histogram of accepted values')\n",
    "\n",
    "ax1.hist(accepted[:,0], bins=20)\n",
    "ax1.set_xlabel('$\\mu_0$ values')\n",
    "\n",
    "\n",
    "#ax1.hist(discarted[:,0], bins=20, color='orange')\n",
    "\n",
    "ax2.hist(accepted[:,1], bins=20)\n",
    "ax2.set_xlabel('$\\Omega_m$ values')\n",
    "\n",
    "#plt.title('histogram of accepted values')\n",
    "fig.show()"
   ]
  },
  {
   "cell_type": "markdown",
   "metadata": {},
   "source": [
    "8) Use plt.hist2d() to make a 2 dimensional histogram of the chain with labels."
   ]
  },
  {
   "cell_type": "code",
   "execution_count": 117,
   "metadata": {},
   "outputs": [
    {
     "data": {
      "image/png": "[encoded data removed]",
      "text/plain": [
       "<Figure size 432x288 with 2 Axes>"
      ]
     },
     "metadata": {
      "needs_background": "light"
     },
     "output_type": "display_data"
    }
   ],
   "source": [
    "plt.hist2d(accepted[:,0], accepted[:,1], bins=10, cmap='viridis')\n",
    "\n",
    "plt.xlabel('$\\mu_0$ values')\n",
    "plt.ylabel('$\\Omega_m$ values')\n",
    "plt.colorbar()\n",
    "plt.show()"
   ]
  },
  {
   "cell_type": "markdown",
   "metadata": {},
   "source": [
    " 9) I have written a function with just a few lines missing that returns the cross-correlation function between two vectors with lag m.\n",
    " \n",
    " Use this function to estimate the correlation length \n",
    " of your chain. Plot the auto-correlation function for \n",
    " lags of zero to a few hundred.\n",
    " \n",
    " What is the correlation length of your chain?"
   ]
  },
  {
   "cell_type": "code",
   "execution_count": 118,
   "metadata": {},
   "outputs": [],
   "source": [
    "def corrfunction(x,y):\n",
    "    '''\n",
    "    This function calculates the correlation coefficient \n",
    "    as a function of lag between \n",
    "    '''\n",
    "    xc = x - np.mean(x)\n",
    "    yc = y - np.mean(y)\n",
    "    \n",
    "    N = len(x)\n",
    "    out = np.empty(N-2)\n",
    "    stdx = np.std(xc)\n",
    "    stdy = np.std(yc)\n",
    "\n",
    "    for i in range(N-2) :\n",
    "        xt = xc[0:N-i]\n",
    "        yt = yc[i:N]\n",
    "        if(stdx == 0 or stdy == 0):  ## this can happen for last elements\n",
    "            out[i] = 0\n",
    "        else :\n",
    "            out[i] = np.mean(xt*yt)\n",
    "\n",
    "    out /= (stdx*stdy)\n",
    "    return out"
   ]
  },
  {
   "cell_type": "code",
   "execution_count": 119,
   "metadata": {},
   "outputs": [
    {
     "data": {
      "image/png": "[encoded data removed]",
      "text/plain": [
       "<Figure size 432x288 with 1 Axes>"
      ]
     },
     "metadata": {
      "needs_background": "light"
     },
     "output_type": "display_data"
    }
   ],
   "source": [
    "#togli il burn-in\n",
    "\n",
    "corr = corrfunction(accepted[:,0],accepted[:,1])\n",
    "\n",
    "corr00 = corrfunction(accepted[:,0],accepted[:,0])\n",
    "\n",
    "corr11 = corrfunction(accepted[:,1],accepted[:,1])\n",
    "\n",
    "lag = np.arange(0,len(accepted)-2)\n",
    "\n",
    "plt.plot(lag, corr11, label='$\\Omega_m$ autocorrelation')\n",
    "plt.plot(lag, corr00, label='$\\mu_0$ Autocorrelation')\n",
    "plt.plot(lag, corr, label='crosscorrelation')\n",
    "plt.legend()\n",
    "plt.hlines(0,0,300, linestyles='--',color='r')\n",
    "\n",
    "plt.xlim((-1.5,200))\n",
    "plt.ylim((-.5,1))\n",
    "\n",
    "plt.xlabel('lag')\n",
    "plt.ylabel('coorrelation')\n",
    "plt.show()"
   ]
  },
  {
   "cell_type": "markdown",
   "metadata": {},
   "source": [
    "10) Calculate the mean, variance and normalized covariance of the parameters.  For a flat universe, $\\Omega_m + \\Omega_\\Lambda = 1$ where $\\Omega_\\Lambda$ is the density of the cosmological constant.  What are the mean value and \"1 sigma\" error bars on  $\\Omega_\\Lambda$."
   ]
  },
  {
   "cell_type": "code",
   "execution_count": 120,
   "metadata": {},
   "outputs": [
    {
     "name": "stdout",
     "output_type": "stream",
     "text": [
      "covariance matrix: \n",
      "\n",
      "[[0.00013159 0.00015482]\n",
      " [0.00015482 0.00040965]]\n",
      "\n",
      "correlation matrix:\n",
      "\n",
      "[[1.         0.66683497]\n",
      " [0.66683497 1.        ]]\n",
      "\n",
      "mean of omega matter =  0.27713672539256123 +/- 0.02023985882014636\n",
      "mean of mu 0 =  24.99944575764641 +/- 0.011471092602203596\n",
      "dens = 0.6668349689303397\n"
     ]
    }
   ],
   "source": [
    "cov = np.cov(accepted[:,0], accepted[:,1])\n",
    "\n",
    "#correlation matrix from tutorial 2\n",
    "def correlation_from_covariance(covariance):\n",
    "    v = np.sqrt(np.diag(covariance))\n",
    "    outer_v = np.outer(v, v)\n",
    "    correlation = covariance / outer_v\n",
    "    correlation[covariance == 0] = 0\n",
    "    return correlation\n",
    "\n",
    "corr = correlation_from_covariance(cov)\n",
    "\n",
    "print('covariance matrix:', '\\n')\n",
    "print(cov)\n",
    "print()\n",
    "print('correlation matrix:' '\\n')\n",
    "print(corr)\n",
    "print()\n",
    "print('mean of omega matter = ',np.mean(accepted[:,1]),'+/-', np.sqrt(cov[1,1]))\n",
    "print('mean of mu 0 = ',np.mean(accepted[:,0]),'+/-', np.sqrt(cov[0,0]))\n",
    "print('dens =', corr[0,1])"
   ]
  },
  {
   "cell_type": "markdown",
   "metadata": {},
   "source": [
    "save the result as a csv file"
   ]
  },
  {
   "cell_type": "code",
   "execution_count": 121,
   "metadata": {},
   "outputs": [],
   "source": [
    "data = {\n",
    "    'mu':accepted[:,0],\n",
    "    'omega':accepted[:,1]\n",
    "}\n",
    "\n",
    "df = pd.DataFrame(data)\n",
    "\n",
    "df.to_csv('tut9data.csv')"
   ]
  }
 ],
 "metadata": {
  "kernelspec": {
   "display_name": "Python 3.10.1 64-bit",
   "language": "python",
   "name": "python3"
  },
  "language_info": {
   "codemirror_mode": {
    "name": "ipython",
    "version": 3
   },
   "file_extension": ".py",
   "mimetype": "text/x-python",
   "name": "python",
   "nbconvert_exporter": "python",
   "pygments_lexer": "ipython3",
   "version": "3.10.1"
  },
  "vscode": {
   "interpreter": {
    "hash": "0442e6bc7111eeef7d95f413d9ac2ba03fcff7e7dbec17eaed633dceab4c74a4"
   }
  }
 },
 "nbformat": 4,
 "nbformat_minor": 2
}
